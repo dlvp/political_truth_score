{
 "cells": [
  {
   "cell_type": "code",
   "execution_count": 10,
   "metadata": {
    "collapsed": true
   },
   "outputs": [],
   "source": [
    "#%matplotlib inline\n",
    "\n",
    "from lxml import html\n",
    "import re\n",
    "from bs4 import BeautifulSoup\n",
    "import time\n",
    "import requests\n",
    "import json\n",
    "import pandas as pd\n",
    "import numpy as np\n",
    "\n",
    "from __future__ import division\n",
    "\n",
    "import matplotlib\n",
    "\n",
    "import matplotlib.pyplot as plt\n",
    "\n",
    "plt.style.use('seaborn-white')\n",
    "\n",
    "import pylab\n",
    "pylab.ion()"
   ]
  },
  {
   "cell_type": "markdown",
   "metadata": {},
   "source": [
    "# Get the data\n",
    "\n",
    "This is the code to call the Politifact API and download the full dataset. For convenience I only saved the tags I needed. The data are saved in a small 3MB json file. "
   ]
  },
  {
   "cell_type": "code",
   "execution_count": 313,
   "metadata": {
    "collapsed": true
   },
   "outputs": [],
   "source": [
    "def clean_str(str):\n",
    "    str=str.replace('&quot;','\"').replace('&quot;','\"').replace('<p>','').replace('</p>','')\n",
    "    str=str.replace('\\r\\n','').replace('&nbsp;','').replace('<div>','').replace('</div>','')\n",
    "    return str.replace('&rsquo;',\"\\'\")"
   ]
  },
  {
   "cell_type": "code",
   "execution_count": 314,
   "metadata": {
    "collapsed": true
   },
   "outputs": [],
   "source": [
    "def politifact_query(n, offset):\n",
    "    url_base='http://www.politifact.com/api/v/2/statementlist/?order_by=-ruling_date&format=xml&'\n",
    "    url = url_base+'limit='+str(n)+'&offset='+str(offset)\n",
    "    page=requests.get(url)\n",
    "    soup = BeautifulSoup(page.content, 'xml')\n",
    "    out=[]\n",
    "    for idx,tag in enumerate(soup.find_all(\"statement\")):\n",
    "        statement = clean_str(tag.text)\n",
    "        score=int(re.findall(r'\\d+', str(soup.find_all(\"ruling\")[2*idx].find('id')))[0])\n",
    "        speaker=re.findall(r'<name_slug>(.*?)</name_slug>',str(soup))[idx]\n",
    "        date = re.findall(r'<statement_date>(.*?)</statement_date>',str(soup))[idx]\n",
    "        party= re.findall(r'<party_slug>(.*?)</party_slug>',str(soup))[idx]\n",
    "        my_dict = {'statement': statement,'score':score,'speaker': speaker, 'date': date,'party': party}\n",
    "        out.append(my_dict)\n",
    "    return out"
   ]
  },
  {
   "cell_type": "code",
   "execution_count": null,
   "metadata": {
    "collapsed": true
   },
   "outputs": [],
   "source": [
    "count = 0\n",
    "data = []\n",
    "batch = 5\n",
    "while (count < 14270):\n",
    "    out = politifact_query(batch, count)\n",
    "    data+=out\n",
    "    count+=batch\n",
    "    if count%100==0:\n",
    "        print count"
   ]
  },
  {
   "cell_type": "code",
   "execution_count": 373,
   "metadata": {
    "collapsed": true
   },
   "outputs": [],
   "source": [
    "with open('politifact.json', 'w') as f:\n",
    "    json.dump(data, f)"
   ]
  },
  {
   "cell_type": "markdown",
   "metadata": {},
   "source": [
    "# Plot I\n",
    "\n",
    "Simple plot to compare the rate at which democrats and republican lie. The scores go from 1 to 6, 1 being truth, 6 being outlandish falsehood. "
   ]
  },
  {
   "cell_type": "code",
   "execution_count": 2,
   "metadata": {
    "collapsed": true
   },
   "outputs": [],
   "source": [
    "df=pd.read_json('politifact.json')\n",
    "pol_data=df.copy()\n",
    "pol_data=pol_data[pol_data['score'].isin(range(1,7))]"
   ]
  },
  {
   "cell_type": "code",
   "execution_count": 5,
   "metadata": {},
   "outputs": [
    {
     "data": {
      "text/html": [
       "<div>\n",
       "<style>\n",
       "    .dataframe thead tr:only-child th {\n",
       "        text-align: right;\n",
       "    }\n",
       "\n",
       "    .dataframe thead th {\n",
       "        text-align: left;\n",
       "    }\n",
       "\n",
       "    .dataframe tbody tr th {\n",
       "        vertical-align: top;\n",
       "    }\n",
       "</style>\n",
       "<table border=\"1\" class=\"dataframe\">\n",
       "  <thead>\n",
       "    <tr style=\"text-align: right;\">\n",
       "      <th></th>\n",
       "      <th>party</th>\n",
       "      <th>score</th>\n",
       "    </tr>\n",
       "  </thead>\n",
       "  <tbody>\n",
       "    <tr>\n",
       "      <th>6</th>\n",
       "      <td>democrat</td>\n",
       "      <td>2.916705</td>\n",
       "    </tr>\n",
       "    <tr>\n",
       "      <th>21</th>\n",
       "      <td>republican</td>\n",
       "      <td>3.453100</td>\n",
       "    </tr>\n",
       "  </tbody>\n",
       "</table>\n",
       "</div>"
      ],
      "text/plain": [
       "         party     score\n",
       "6     democrat  2.916705\n",
       "21  republican  3.453100"
      ]
     },
     "execution_count": 5,
     "metadata": {},
     "output_type": "execute_result"
    }
   ],
   "source": [
    "temp_mean=pol_data.groupby('party', as_index=False)['score'].mean()\n",
    "temp_mean[temp_mean['party'].isin(['republican','democrat'])]"
   ]
  },
  {
   "cell_type": "code",
   "execution_count": 6,
   "metadata": {},
   "outputs": [
    {
     "data": {
      "text/html": [
       "<div>\n",
       "<style>\n",
       "    .dataframe thead tr:only-child th {\n",
       "        text-align: right;\n",
       "    }\n",
       "\n",
       "    .dataframe thead th {\n",
       "        text-align: left;\n",
       "    }\n",
       "\n",
       "    .dataframe tbody tr th {\n",
       "        vertical-align: top;\n",
       "    }\n",
       "</style>\n",
       "<table border=\"1\" class=\"dataframe\">\n",
       "  <thead>\n",
       "    <tr style=\"text-align: right;\">\n",
       "      <th></th>\n",
       "      <th>party</th>\n",
       "      <th>score</th>\n",
       "    </tr>\n",
       "  </thead>\n",
       "  <tbody>\n",
       "    <tr>\n",
       "      <th>6</th>\n",
       "      <td>democrat</td>\n",
       "      <td>2.133596</td>\n",
       "    </tr>\n",
       "    <tr>\n",
       "      <th>21</th>\n",
       "      <td>republican</td>\n",
       "      <td>2.334190</td>\n",
       "    </tr>\n",
       "  </tbody>\n",
       "</table>\n",
       "</div>"
      ],
      "text/plain": [
       "         party     score\n",
       "6     democrat  2.133596\n",
       "21  republican  2.334190"
      ]
     },
     "execution_count": 6,
     "metadata": {},
     "output_type": "execute_result"
    }
   ],
   "source": [
    "temp_std=pol_data.groupby('party', as_index=False)['score'].var()\n",
    "temp_std[temp_std['party'].isin(['republican','democrat'])]"
   ]
  },
  {
   "cell_type": "code",
   "execution_count": 7,
   "metadata": {},
   "outputs": [
    {
     "data": {
      "text/plain": [
       "1.4606834016993553"
      ]
     },
     "execution_count": 7,
     "metadata": {},
     "output_type": "execute_result"
    }
   ],
   "source": [
    "np.sqrt(2.133596)"
   ]
  },
  {
   "cell_type": "code",
   "execution_count": 8,
   "metadata": {},
   "outputs": [
    {
     "data": {
      "text/plain": [
       "1.5278056159079925"
      ]
     },
     "execution_count": 8,
     "metadata": {},
     "output_type": "execute_result"
    }
   ],
   "source": [
    "np.sqrt(2.334190)"
   ]
  },
  {
   "cell_type": "code",
   "execution_count": 57,
   "metadata": {},
   "outputs": [
    {
     "data": {
      "image/png": "[encoded data removed]",
      "text/plain": [
       "<matplotlib.figure.Figure at 0x11bc723d0>"
      ]
     },
     "metadata": {},
     "output_type": "display_data"
    }
   ],
   "source": [
    "fig, ax = plt.subplots()\n",
    "plt.hist( pol_data[pol_data['party']=='republican']['score'].values,[1,2,3,4,5,6], color='r', \n",
    "         alpha = 0.3, normed=True, label='Republicans')\n",
    "plt.hist( pol_data[pol_data['party']=='democrat']['score'].values,[1,2,3,4,5,6], color='b',\n",
    "         alpha = 0.3, normed=True, label='Democrats')\n",
    "legend = ax.legend(loc='upper left', shadow=True, fontsize='large')\n",
    "ax.set_xlabel('Truth-o-meter score',fontsize='x-large')\n",
    "ax.set_ylabel('normalized entries',fontsize='x-large')\n",
    "fig.show()"
   ]
  },
  {
   "cell_type": "markdown",
   "metadata": {},
   "source": [
    "# Plot II\n",
    "\n",
    "I show tf-idf (Term Fequency - Inverse Document Frequency, https://en.wikipedia.org/wiki/Tf%E2%80%93idf) statistics of words in true and false statements for democrats and republicans"
   ]
  },
  {
   "cell_type": "code",
   "execution_count": 76,
   "metadata": {
    "collapsed": true
   },
   "outputs": [],
   "source": [
    "from sklearn.feature_extraction.text import TfidfVectorizer\n",
    "from string import punctuation\n",
    "from nltk.corpus import stopwords\n",
    "from nltk import word_tokenize\n",
    "from scipy.sparse import csr_matrix"
   ]
  },
  {
   "cell_type": "code",
   "execution_count": 118,
   "metadata": {},
   "outputs": [],
   "source": [
    "stop_words = stopwords.words('english') + list(punctuation)\n",
    " \n",
    "def tokenize(text):\n",
    "    words = word_tokenize(text)\n",
    "    return [w.lower() for w in words]\n",
    "\n",
    "def score_text(text):\n",
    "    X = tfidf.transform([text])\n",
    "    return [[word, X[0, tfidf.vocabulary_[word]]] for word in tokenize(text)]\n",
    "\n",
    "def score_corpus(corpus,topn=25):\n",
    "    score =csr_matrix(np.zeros((1,len(vocabulary))))\n",
    "    for text in corpus:\n",
    "        X =  tfidf.transform([text])\n",
    "        score += X[0,:]\n",
    "    score = score.toarray()[0]/len(corpus)\n",
    "    ind = score.argsort()[-topn:][::-1]\n",
    "    out = [[dictionary[idx] , score[idx]] for idx in ind]\n",
    "    return out\n",
    "\n",
    "def diff_corpus(corpus1,corpus2,topn=30):\n",
    "    score1 =csr_matrix(np.zeros((1,len(vocabulary))))\n",
    "    for text in corpus1:\n",
    "        X =  tfidf.transform([text])\n",
    "        score1 += X[0,:]\n",
    "    score2 =csr_matrix(np.zeros((1,len(vocabulary))))\n",
    "    for text in corpus2:\n",
    "        X =  tfidf.transform([text])\n",
    "        score2 += X[0,:]\n",
    "    score = score1.toarray()[0]/len(corpus1)-score2.toarray()[0]/len(corpus2)\n",
    "    ind_max = score.argsort()[-topn:][::-1]\n",
    "    ind_min = score.argsort()[:topn]\n",
    "    out = [[[dictionary[idx] , score[idx]] for idx in ind_max],[[dictionary[idx] , -score[idx]] for idx in ind_min]]\n",
    "    return out\n",
    "\n",
    "def plot_tfidf_classfeats_h(dfs, labels, color='k',alpha = 0.5):\n",
    "    ''' Plot the data frames returned by the function plot_tfidf_classfeats(). '''\n",
    "    fig = plt.figure(figsize=(5, 4), facecolor=\"w\")\n",
    "    x = np.arange(len(dfs[0]))\n",
    "    for i, df in enumerate(dfs):\n",
    "        ax = fig.add_subplot(1, len(dfs), i+1)\n",
    "        ax.spines[\"top\"].set_visible(False)\n",
    "        ax.spines[\"right\"].set_visible(False)\n",
    "        ax.set_frame_on(False)\n",
    "        ax.get_xaxis().tick_bottom()\n",
    "        ax.get_yaxis().tick_left()\n",
    "        ax.set_xlabel(\"Mean Tf-Idf Score\", labelpad=16, fontsize=12)\n",
    "        ax.set_title( labels[i], fontsize=14)\n",
    "        ax.ticklabel_format(axis='x', style='sci', scilimits=(-2,2))\n",
    "        ax.barh(x, [v[1] for v in df], align='center', color=color, alpha=alpha)\n",
    "        ax.set_yticks(x)\n",
    "        ax.set_ylim([-1, x[-1]+1])\n",
    "        yticks = ax.set_yticklabels([v[0] for v in df])\n",
    "        plt.subplots_adjust(bottom=0.09, right=0.97, left=0.15, top=0.95, wspace=0.52)\n",
    "    plt.show()"
   ]
  },
  {
   "cell_type": "code",
   "execution_count": 78,
   "metadata": {
    "collapsed": true
   },
   "outputs": [],
   "source": [
    "df=pd.read_json('politifact.json')\n",
    "pol_data=df.copy()\n",
    "pol_data=pol_data[pol_data['score'].isin(range(1,7))]"
   ]
  },
  {
   "cell_type": "code",
   "execution_count": 79,
   "metadata": {},
   "outputs": [],
   "source": [
    "texts = pol_data['statement'].values\n",
    "# build the vocabulary \n",
    "vocabulary = set([word for text in texts for word in tokenize(text)])"
   ]
  },
  {
   "cell_type": "code",
   "execution_count": 80,
   "metadata": {},
   "outputs": [
    {
     "data": {
      "text/plain": [
       "TfidfVectorizer(analyzer=u'word', binary=False, decode_error=u'strict',\n",
       "        dtype=<type 'numpy.int64'>, encoding=u'utf-8', input=u'content',\n",
       "        lowercase=True, max_df=1.0, max_features=None, min_df=1,\n",
       "        ngram_range=(1, 1), norm=u'l2', preprocessor=None, smooth_idf=True,\n",
       "        stop_words=[u'i', u'me', u'my', u'myself', u'we', u'our', u'ours', u'ourselves', u'you', u\"you're\", u\"you've\", u\"you'll\", u\"you'd\", u'your', u'yours', u'yourself', u'yourselves', u'he', u'him', u'his', u'himself', u'she', u\"she's\", u'her', u'hers', u'herself', u'it', u\"it's\", u'its', u'itself', u'th...'-', '.', '/', ':', ';', '<', '=', '>', '?', '@', '[', '\\\\', ']', '^', '_', '`', '{', '|', '}', '~'],\n",
       "        strip_accents=None, sublinear_tf=False,\n",
       "        token_pattern=u'(?u)\\\\b\\\\w\\\\w+\\\\b',\n",
       "        tokenizer=<function tokenize at 0x11cab7050>, use_idf=True,\n",
       "        vocabulary=set([u'pacemaker', u'1,800', u'r', u'1,773', u'foul', u'narcotic', u'four', u'jihad', u\"'bridge\", u'compliance', u'towns', u'gabrielle', u'marching', u'looking', u'seventy-seven', u'made-from-scratch', u'third-biggest', u'eligible', u'electricity', u'similarity', u'lord', u'mccollumhas', ...ty-percent', u'heidi', u'ideological', u'richardson', u'expands', u'smitherman', u'shrink-wrapped']))"
      ]
     },
     "execution_count": 80,
     "metadata": {},
     "output_type": "execute_result"
    }
   ],
   "source": [
    "# Fit the TfIdf model\n",
    "tfidf = TfidfVectorizer(stop_words=stop_words, tokenizer=tokenize, vocabulary=vocabulary)\n",
    "tfidf.fit([text for text in texts])"
   ]
  },
  {
   "cell_type": "code",
   "execution_count": 81,
   "metadata": {
    "collapsed": true
   },
   "outputs": [],
   "source": [
    "# build a dictionary\n",
    "values = list(vocabulary)\n",
    "keys = [tfidf.vocabulary_[word] for word  in values]\n",
    "dictionary = dict(zip(keys, values))"
   ]
  },
  {
   "cell_type": "code",
   "execution_count": 92,
   "metadata": {},
   "outputs": [
    {
     "name": "stdout",
     "output_type": "stream",
     "text": [
      "2930\n",
      "2421\n",
      "3074\n",
      "4317\n"
     ]
    }
   ],
   "source": [
    "pol_data_T_dem=pol_data[(pol_data['score']<=3)&(pol_data['party']=='democrat')].reset_index()\n",
    "pol_data_F_dem=pol_data[(pol_data['score']>=3)&(pol_data['party']=='democrat')].reset_index()\n",
    "pol_data_T_rep=pol_data[(pol_data['score']<=3)&(pol_data['party']=='republican')].reset_index()\n",
    "pol_data_F_rep=pol_data[(pol_data['score']>=3)&(pol_data['party']=='republican')].reset_index()\n",
    "print(len(pol_data_T_dem))\n",
    "print(len(pol_data_F_dem))\n",
    "print(len(pol_data_T_rep))\n",
    "print(len(pol_data_F_rep))"
   ]
  },
  {
   "cell_type": "code",
   "execution_count": 99,
   "metadata": {},
   "outputs": [],
   "source": [
    "true_texts_dem = pol_data_T_dem['statement'].values\n",
    "false_texts_dem = pol_data_F_dem['statement'].values\n",
    "true_texts_rep = pol_data_T_rep['statement'].values\n",
    "false_texts_rep = pol_data_F_rep['statement'].values\n",
    "tfidf_plot_dem=diff_corpus(true_texts_dem,false_texts_dem,10)\n",
    "tfidf_plot_rep=diff_corpus(true_texts_rep,false_texts_rep,10)"
   ]
  },
  {
   "cell_type": "code",
   "execution_count": 120,
   "metadata": {},
   "outputs": [
    {
     "data": {
      "image/png": "[encoded data removed]",
      "text/plain": [
       "<matplotlib.figure.Figure at 0x11138b450>"
      ]
     },
     "metadata": {},
     "output_type": "display_data"
    }
   ],
   "source": [
    "plot_tfidf_classfeats_h(tfidf_plot_dem,['Democrat truth','Democrat lie'],'b')"
   ]
  },
  {
   "cell_type": "code",
   "execution_count": 119,
   "metadata": {},
   "outputs": [
    {
     "data": {
      "image/png": "[encoded data removed]",
      "text/plain": [
       "<matplotlib.figure.Figure at 0x11af542d0>"
      ]
     },
     "metadata": {},
     "output_type": "display_data"
    }
   ],
   "source": [
    "plot_tfidf_classfeats_h(tfidf_plot_rep,['Republican truth','Republican lie'],'r')"
   ]
  }
 ],
 "metadata": {
  "kernelspec": {
   "display_name": "Python 2",
   "language": "python",
   "name": "python2"
  },
  "language_info": {
   "codemirror_mode": {
    "name": "ipython",
    "version": 2
   },
   "file_extension": ".py",
   "mimetype": "text/x-python",
   "name": "python",
   "nbconvert_exporter": "python",
   "pygments_lexer": "ipython2",
   "version": "2.7.13"
  }
 },
 "nbformat": 4,
 "nbformat_minor": 2
}
